{
 "cells": [
  {
   "cell_type": "code",
   "execution_count": 20,
   "metadata": {},
   "outputs": [],
   "source": [
    "import requests\n",
    "from bs4 import BeautifulSoup as bs\n",
    "from urllib.request import urlopen\n",
    "\n",
    "import pymongo"
   ]
  },
  {
   "cell_type": "code",
   "execution_count": 2,
   "metadata": {},
   "outputs": [],
   "source": [
    "searchString = \"iphone\"\n"
   ]
  },
  {
   "cell_type": "code",
   "execution_count": 3,
   "metadata": {},
   "outputs": [],
   "source": [
    "url = \"https://www.flipkart.com/search?q=\" + searchString\n",
    "client = urlopen(url)\n",
    "flipkartPage = client.read()\n",
    "client.close()"
   ]
  },
  {
   "cell_type": "code",
   "execution_count": 4,
   "metadata": {},
   "outputs": [],
   "source": [
    "flipkart_html = bs(flipkartPage, \"html.parser\")\n",
    "boxes = flipkart_html.findAll(\"div\", {\"class\": \"bhgxx2 col-12-12\"})"
   ]
  },
  {
   "cell_type": "code",
   "execution_count": 5,
   "metadata": {},
   "outputs": [],
   "source": [
    "del boxes[0:2]\n",
    "box = boxes[0]\n",
    "# box"
   ]
  },
  {
   "cell_type": "code",
   "execution_count": 6,
   "metadata": {},
   "outputs": [
    {
     "data": {
      "text/plain": [
       "'https://www.flipkart.com/apple-iphone-se-black-64-gb/p/itm832dd5963a08d?pid=MOBFRFXHCKWDAC4A&lid=LSTMOBFRFXHCKWDAC4AEQROVZ&marketplace=FLIPKART&srno=s_1_1&otracker=search&fm=organic&iid=e3aa336f-f5d8-460b-8906-10345bc466af.MOBFRFXHCKWDAC4A.SEARCH&ssid=kfrm96amtc0000001590326445795&qH=0b3f45b266a97d70'"
      ]
     },
     "execution_count": 6,
     "metadata": {},
     "output_type": "execute_result"
    }
   ],
   "source": [
    "productLink = \"https://www.flipkart.com\" + box.div.div.div.a['href']\n",
    "productLink"
   ]
  },
  {
   "cell_type": "code",
   "execution_count": 7,
   "metadata": {},
   "outputs": [],
   "source": [
    "prodDesc = requests.get(productLink)\n",
    "prodDesc.encding = 'utf-8'\n",
    "prodHtml = bs(prodDesc.text,\"html.parser\")"
   ]
  },
  {
   "cell_type": "code",
   "execution_count": 8,
   "metadata": {},
   "outputs": [],
   "source": [
    "reviews = prodHtml.findAll(\"div\",{'class': \"_3nrCtb\"})\n",
    "reviews\n",
    "review = reviews[0]"
   ]
  },
  {
   "cell_type": "code",
   "execution_count": 9,
   "metadata": {},
   "outputs": [
    {
     "data": {
      "text/plain": [
       "'5'"
      ]
     },
     "execution_count": 9,
     "metadata": {},
     "output_type": "execute_result"
    }
   ],
   "source": [
    "rating = review.div.div.findAll(\"div\", {\"class\": \"hGSR34 E_uFuv\"})[0].text\n",
    "rating\n"
   ]
  },
  {
   "cell_type": "code",
   "execution_count": 10,
   "metadata": {},
   "outputs": [
    {
     "data": {
      "text/plain": [
       "'Perfect and Handy'"
      ]
     },
     "execution_count": 10,
     "metadata": {},
     "output_type": "execute_result"
    }
   ],
   "source": [
    "comment = review.div.div.findAll(\"p\", {\"class\": \"_2xg6Ul\"})\n",
    "comment[0].text"
   ]
  },
  {
   "cell_type": "code",
   "execution_count": 13,
   "metadata": {},
   "outputs": [],
   "source": [
    "customerName = review.findAll('div',{\"class\": \"row _2pclJg\"})\n",
    "name = customerName[0].div.findAll('p',{'class': '_3LYOAd _3sxSiS'})\n",
    "name[0].text\n",
    "arrReviews = []"
   ]
  },
  {
   "cell_type": "code",
   "execution_count": 16,
   "metadata": {},
   "outputs": [
    {
     "name": "stdout",
     "output_type": "stream",
     "text": [
      "Rawat Ns quotes: Perfect and Handy. He also rates the product 5 out of 5 \n",
      "\n",
      "Mohammad Sarfaraz Khan quotes: Awesome. He also rates the product 5 out of 5 \n",
      "\n",
      "Vishnu Av quotes: Classy product. He also rates the product 5 out of 5 \n",
      "\n",
      "Ongfa Wakhet quotes: Highly recommended. He also rates the product 5 out of 5 \n",
      "\n",
      "Neha Singh quotes: Just wow!. He also rates the product 5 out of 5 \n",
      "\n",
      "Kuldeep Sharma quotes: Wonderful. He also rates the product 5 out of 5 \n",
      "\n",
      "Aman Singh quotes: Great product. He also rates the product 5 out of 5 \n",
      "\n",
      "kinjal sh quotes: Great product. He also rates the product 5 out of 5 \n",
      "\n",
      "Raja Arora quotes: A true mid-flagship disrupter has arrived.. He also rates the product 5 out of 5 \n",
      "\n",
      "Mamidi Vijay quotes: Awesome. He also rates the product 5 out of 5 \n",
      "\n",
      "something wnt wrong\n"
     ]
    }
   ],
   "source": [
    "for rev in reviews:\n",
    "    try:\n",
    "        rating = rev.div.div.findAll(\"div\", {\"class\": \"hGSR34 E_uFuv\"})[0].text\n",
    "        comment = rev.div.div.findAll(\"p\", {\"class\": \"_2xg6Ul\"})[0].text\n",
    "        customerName = rev.findAll('div',{\"class\": \"row _2pclJg\"})[0]\n",
    "        name = customerName.div.findAll('p',{'class': '_3LYOAd _3sxSiS'})[0].text\n",
    "        print(name + \" quotes: \" + comment + \". He also rates the product \" + rating + \" out of 5 \\n\")\n",
    "        dict = {\"name\": name, \"comment\": comment, \"rating\": rating, \"product\": productLink}\n",
    "        arrReviews.append(dict)\n",
    "    except:\n",
    "        print(\"something wnt wrong\")"
   ]
  },
  {
   "cell_type": "code",
   "execution_count": 17,
   "metadata": {},
   "outputs": [
    {
     "data": {
      "text/plain": [
       "[{'name': 'Rawat Ns',\n",
       "  'comment': 'Perfect and Handy',\n",
       "  'rating': '5',\n",
       "  'product': 'https://www.flipkart.com/apple-iphone-se-black-64-gb/p/itm832dd5963a08d?pid=MOBFRFXHCKWDAC4A&lid=LSTMOBFRFXHCKWDAC4AEQROVZ&marketplace=FLIPKART&srno=s_1_1&otracker=search&fm=organic&iid=e3aa336f-f5d8-460b-8906-10345bc466af.MOBFRFXHCKWDAC4A.SEARCH&ssid=kfrm96amtc0000001590326445795&qH=0b3f45b266a97d70'},\n",
       " {'name': 'Mohammad Sarfaraz Khan',\n",
       "  'comment': 'Awesome',\n",
       "  'rating': '5',\n",
       "  'product': 'https://www.flipkart.com/apple-iphone-se-black-64-gb/p/itm832dd5963a08d?pid=MOBFRFXHCKWDAC4A&lid=LSTMOBFRFXHCKWDAC4AEQROVZ&marketplace=FLIPKART&srno=s_1_1&otracker=search&fm=organic&iid=e3aa336f-f5d8-460b-8906-10345bc466af.MOBFRFXHCKWDAC4A.SEARCH&ssid=kfrm96amtc0000001590326445795&qH=0b3f45b266a97d70'},\n",
       " {'name': 'Vishnu Av',\n",
       "  'comment': 'Classy product',\n",
       "  'rating': '5',\n",
       "  'product': 'https://www.flipkart.com/apple-iphone-se-black-64-gb/p/itm832dd5963a08d?pid=MOBFRFXHCKWDAC4A&lid=LSTMOBFRFXHCKWDAC4AEQROVZ&marketplace=FLIPKART&srno=s_1_1&otracker=search&fm=organic&iid=e3aa336f-f5d8-460b-8906-10345bc466af.MOBFRFXHCKWDAC4A.SEARCH&ssid=kfrm96amtc0000001590326445795&qH=0b3f45b266a97d70'},\n",
       " {'name': 'Ongfa Wakhet',\n",
       "  'comment': 'Highly recommended',\n",
       "  'rating': '5',\n",
       "  'product': 'https://www.flipkart.com/apple-iphone-se-black-64-gb/p/itm832dd5963a08d?pid=MOBFRFXHCKWDAC4A&lid=LSTMOBFRFXHCKWDAC4AEQROVZ&marketplace=FLIPKART&srno=s_1_1&otracker=search&fm=organic&iid=e3aa336f-f5d8-460b-8906-10345bc466af.MOBFRFXHCKWDAC4A.SEARCH&ssid=kfrm96amtc0000001590326445795&qH=0b3f45b266a97d70'},\n",
       " {'name': 'Neha Singh',\n",
       "  'comment': 'Just wow!',\n",
       "  'rating': '5',\n",
       "  'product': 'https://www.flipkart.com/apple-iphone-se-black-64-gb/p/itm832dd5963a08d?pid=MOBFRFXHCKWDAC4A&lid=LSTMOBFRFXHCKWDAC4AEQROVZ&marketplace=FLIPKART&srno=s_1_1&otracker=search&fm=organic&iid=e3aa336f-f5d8-460b-8906-10345bc466af.MOBFRFXHCKWDAC4A.SEARCH&ssid=kfrm96amtc0000001590326445795&qH=0b3f45b266a97d70'},\n",
       " {'name': 'Kuldeep Sharma',\n",
       "  'comment': 'Wonderful',\n",
       "  'rating': '5',\n",
       "  'product': 'https://www.flipkart.com/apple-iphone-se-black-64-gb/p/itm832dd5963a08d?pid=MOBFRFXHCKWDAC4A&lid=LSTMOBFRFXHCKWDAC4AEQROVZ&marketplace=FLIPKART&srno=s_1_1&otracker=search&fm=organic&iid=e3aa336f-f5d8-460b-8906-10345bc466af.MOBFRFXHCKWDAC4A.SEARCH&ssid=kfrm96amtc0000001590326445795&qH=0b3f45b266a97d70'},\n",
       " {'name': 'Aman Singh',\n",
       "  'comment': 'Great product',\n",
       "  'rating': '5',\n",
       "  'product': 'https://www.flipkart.com/apple-iphone-se-black-64-gb/p/itm832dd5963a08d?pid=MOBFRFXHCKWDAC4A&lid=LSTMOBFRFXHCKWDAC4AEQROVZ&marketplace=FLIPKART&srno=s_1_1&otracker=search&fm=organic&iid=e3aa336f-f5d8-460b-8906-10345bc466af.MOBFRFXHCKWDAC4A.SEARCH&ssid=kfrm96amtc0000001590326445795&qH=0b3f45b266a97d70'},\n",
       " {'name': 'kinjal sh',\n",
       "  'comment': 'Great product',\n",
       "  'rating': '5',\n",
       "  'product': 'https://www.flipkart.com/apple-iphone-se-black-64-gb/p/itm832dd5963a08d?pid=MOBFRFXHCKWDAC4A&lid=LSTMOBFRFXHCKWDAC4AEQROVZ&marketplace=FLIPKART&srno=s_1_1&otracker=search&fm=organic&iid=e3aa336f-f5d8-460b-8906-10345bc466af.MOBFRFXHCKWDAC4A.SEARCH&ssid=kfrm96amtc0000001590326445795&qH=0b3f45b266a97d70'},\n",
       " {'name': 'Raja Arora',\n",
       "  'comment': 'A true mid-flagship disrupter has arrived.',\n",
       "  'rating': '5',\n",
       "  'product': 'https://www.flipkart.com/apple-iphone-se-black-64-gb/p/itm832dd5963a08d?pid=MOBFRFXHCKWDAC4A&lid=LSTMOBFRFXHCKWDAC4AEQROVZ&marketplace=FLIPKART&srno=s_1_1&otracker=search&fm=organic&iid=e3aa336f-f5d8-460b-8906-10345bc466af.MOBFRFXHCKWDAC4A.SEARCH&ssid=kfrm96amtc0000001590326445795&qH=0b3f45b266a97d70'},\n",
       " {'name': 'Mamidi Vijay',\n",
       "  'comment': 'Awesome',\n",
       "  'rating': '5',\n",
       "  'product': 'https://www.flipkart.com/apple-iphone-se-black-64-gb/p/itm832dd5963a08d?pid=MOBFRFXHCKWDAC4A&lid=LSTMOBFRFXHCKWDAC4AEQROVZ&marketplace=FLIPKART&srno=s_1_1&otracker=search&fm=organic&iid=e3aa336f-f5d8-460b-8906-10345bc466af.MOBFRFXHCKWDAC4A.SEARCH&ssid=kfrm96amtc0000001590326445795&qH=0b3f45b266a97d70'},\n",
       " {'name': 'Rawat Ns',\n",
       "  'comment': 'Perfect and Handy',\n",
       "  'rating': '5',\n",
       "  'product': 'https://www.flipkart.com/apple-iphone-se-black-64-gb/p/itm832dd5963a08d?pid=MOBFRFXHCKWDAC4A&lid=LSTMOBFRFXHCKWDAC4AEQROVZ&marketplace=FLIPKART&srno=s_1_1&otracker=search&fm=organic&iid=e3aa336f-f5d8-460b-8906-10345bc466af.MOBFRFXHCKWDAC4A.SEARCH&ssid=kfrm96amtc0000001590326445795&qH=0b3f45b266a97d70'},\n",
       " {'name': 'Mohammad Sarfaraz Khan',\n",
       "  'comment': 'Awesome',\n",
       "  'rating': '5',\n",
       "  'product': 'https://www.flipkart.com/apple-iphone-se-black-64-gb/p/itm832dd5963a08d?pid=MOBFRFXHCKWDAC4A&lid=LSTMOBFRFXHCKWDAC4AEQROVZ&marketplace=FLIPKART&srno=s_1_1&otracker=search&fm=organic&iid=e3aa336f-f5d8-460b-8906-10345bc466af.MOBFRFXHCKWDAC4A.SEARCH&ssid=kfrm96amtc0000001590326445795&qH=0b3f45b266a97d70'},\n",
       " {'name': 'Vishnu Av',\n",
       "  'comment': 'Classy product',\n",
       "  'rating': '5',\n",
       "  'product': 'https://www.flipkart.com/apple-iphone-se-black-64-gb/p/itm832dd5963a08d?pid=MOBFRFXHCKWDAC4A&lid=LSTMOBFRFXHCKWDAC4AEQROVZ&marketplace=FLIPKART&srno=s_1_1&otracker=search&fm=organic&iid=e3aa336f-f5d8-460b-8906-10345bc466af.MOBFRFXHCKWDAC4A.SEARCH&ssid=kfrm96amtc0000001590326445795&qH=0b3f45b266a97d70'},\n",
       " {'name': 'Ongfa Wakhet',\n",
       "  'comment': 'Highly recommended',\n",
       "  'rating': '5',\n",
       "  'product': 'https://www.flipkart.com/apple-iphone-se-black-64-gb/p/itm832dd5963a08d?pid=MOBFRFXHCKWDAC4A&lid=LSTMOBFRFXHCKWDAC4AEQROVZ&marketplace=FLIPKART&srno=s_1_1&otracker=search&fm=organic&iid=e3aa336f-f5d8-460b-8906-10345bc466af.MOBFRFXHCKWDAC4A.SEARCH&ssid=kfrm96amtc0000001590326445795&qH=0b3f45b266a97d70'},\n",
       " {'name': 'Neha Singh',\n",
       "  'comment': 'Just wow!',\n",
       "  'rating': '5',\n",
       "  'product': 'https://www.flipkart.com/apple-iphone-se-black-64-gb/p/itm832dd5963a08d?pid=MOBFRFXHCKWDAC4A&lid=LSTMOBFRFXHCKWDAC4AEQROVZ&marketplace=FLIPKART&srno=s_1_1&otracker=search&fm=organic&iid=e3aa336f-f5d8-460b-8906-10345bc466af.MOBFRFXHCKWDAC4A.SEARCH&ssid=kfrm96amtc0000001590326445795&qH=0b3f45b266a97d70'},\n",
       " {'name': 'Kuldeep Sharma',\n",
       "  'comment': 'Wonderful',\n",
       "  'rating': '5',\n",
       "  'product': 'https://www.flipkart.com/apple-iphone-se-black-64-gb/p/itm832dd5963a08d?pid=MOBFRFXHCKWDAC4A&lid=LSTMOBFRFXHCKWDAC4AEQROVZ&marketplace=FLIPKART&srno=s_1_1&otracker=search&fm=organic&iid=e3aa336f-f5d8-460b-8906-10345bc466af.MOBFRFXHCKWDAC4A.SEARCH&ssid=kfrm96amtc0000001590326445795&qH=0b3f45b266a97d70'},\n",
       " {'name': 'Aman Singh',\n",
       "  'comment': 'Great product',\n",
       "  'rating': '5',\n",
       "  'product': 'https://www.flipkart.com/apple-iphone-se-black-64-gb/p/itm832dd5963a08d?pid=MOBFRFXHCKWDAC4A&lid=LSTMOBFRFXHCKWDAC4AEQROVZ&marketplace=FLIPKART&srno=s_1_1&otracker=search&fm=organic&iid=e3aa336f-f5d8-460b-8906-10345bc466af.MOBFRFXHCKWDAC4A.SEARCH&ssid=kfrm96amtc0000001590326445795&qH=0b3f45b266a97d70'},\n",
       " {'name': 'kinjal sh',\n",
       "  'comment': 'Great product',\n",
       "  'rating': '5',\n",
       "  'product': 'https://www.flipkart.com/apple-iphone-se-black-64-gb/p/itm832dd5963a08d?pid=MOBFRFXHCKWDAC4A&lid=LSTMOBFRFXHCKWDAC4AEQROVZ&marketplace=FLIPKART&srno=s_1_1&otracker=search&fm=organic&iid=e3aa336f-f5d8-460b-8906-10345bc466af.MOBFRFXHCKWDAC4A.SEARCH&ssid=kfrm96amtc0000001590326445795&qH=0b3f45b266a97d70'},\n",
       " {'name': 'Raja Arora',\n",
       "  'comment': 'A true mid-flagship disrupter has arrived.',\n",
       "  'rating': '5',\n",
       "  'product': 'https://www.flipkart.com/apple-iphone-se-black-64-gb/p/itm832dd5963a08d?pid=MOBFRFXHCKWDAC4A&lid=LSTMOBFRFXHCKWDAC4AEQROVZ&marketplace=FLIPKART&srno=s_1_1&otracker=search&fm=organic&iid=e3aa336f-f5d8-460b-8906-10345bc466af.MOBFRFXHCKWDAC4A.SEARCH&ssid=kfrm96amtc0000001590326445795&qH=0b3f45b266a97d70'},\n",
       " {'name': 'Mamidi Vijay',\n",
       "  'comment': 'Awesome',\n",
       "  'rating': '5',\n",
       "  'product': 'https://www.flipkart.com/apple-iphone-se-black-64-gb/p/itm832dd5963a08d?pid=MOBFRFXHCKWDAC4A&lid=LSTMOBFRFXHCKWDAC4AEQROVZ&marketplace=FLIPKART&srno=s_1_1&otracker=search&fm=organic&iid=e3aa336f-f5d8-460b-8906-10345bc466af.MOBFRFXHCKWDAC4A.SEARCH&ssid=kfrm96amtc0000001590326445795&qH=0b3f45b266a97d70'}]"
      ]
     },
     "execution_count": 17,
     "metadata": {},
     "output_type": "execute_result"
    }
   ],
   "source": [
    "arrReviews"
   ]
  },
  {
   "cell_type": "code",
   "execution_count": 49,
   "metadata": {},
   "outputs": [
    {
     "name": "stdout",
     "output_type": "stream",
     "text": [
      "{'_id': ObjectId('5eca7df4dafba53669f7b4ab'), 'name': 'Avinash  Aavula', 'comment': 'Terrific purchase', 'rating': '5', 'product': 'https://www.flipkart.com/casio-dj-220dplus-desktop-basic-calculator/p/itmesrg4hv3z4wph?pid=CALESRG4HFEMZ5HJ&lid=LSTCALESRG4HFEMZ5HJW4R3GB&marketplace=FLIPKART&srno=s_1_5&otracker=search&fm=organic&iid=41cc069a-4a43-4a7b-b257-488ac3a52b5a.CALESRG4HFEMZ5HJ.SEARCH&ssid=3t61loterk0000001590328826370&qH=4880766485de7821'}\n",
      "\n",
      "\n",
      "{'_id': ObjectId('5eca7df5dafba53669f7b4ac'), 'name': 'Zulfiqar Ali', 'comment': 'Must buy!', 'rating': '5', 'product': 'https://www.flipkart.com/casio-dj-220dplus-desktop-basic-calculator/p/itmesrg4hv3z4wph?pid=CALESRG4HFEMZ5HJ&lid=LSTCALESRG4HFEMZ5HJW4R3GB&marketplace=FLIPKART&srno=s_1_5&otracker=search&fm=organic&iid=41cc069a-4a43-4a7b-b257-488ac3a52b5a.CALESRG4HFEMZ5HJ.SEARCH&ssid=3t61loterk0000001590328826370&qH=4880766485de7821'}\n",
      "\n",
      "\n",
      "{'_id': ObjectId('5eca7df5dafba53669f7b4ad'), 'name': 'Gyan Pradhan', 'comment': 'Perfect product!', 'rating': '5', 'product': 'https://www.flipkart.com/casio-dj-220dplus-desktop-basic-calculator/p/itmesrg4hv3z4wph?pid=CALESRG4HFEMZ5HJ&lid=LSTCALESRG4HFEMZ5HJW4R3GB&marketplace=FLIPKART&srno=s_1_5&otracker=search&fm=organic&iid=41cc069a-4a43-4a7b-b257-488ac3a52b5a.CALESRG4HFEMZ5HJ.SEARCH&ssid=3t61loterk0000001590328826370&qH=4880766485de7821'}\n",
      "\n",
      "\n",
      "{'_id': ObjectId('5eca7df5dafba53669f7b4ae'), 'name': 'Flipkart Customer', 'comment': 'Super!', 'rating': '5', 'product': 'https://www.flipkart.com/casio-dj-220dplus-desktop-basic-calculator/p/itmesrg4hv3z4wph?pid=CALESRG4HFEMZ5HJ&lid=LSTCALESRG4HFEMZ5HJW4R3GB&marketplace=FLIPKART&srno=s_1_5&otracker=search&fm=organic&iid=41cc069a-4a43-4a7b-b257-488ac3a52b5a.CALESRG4HFEMZ5HJ.SEARCH&ssid=3t61loterk0000001590328826370&qH=4880766485de7821'}\n",
      "\n",
      "\n",
      "{'_id': ObjectId('5eca7df5dafba53669f7b4af'), 'name': 'yashwant parasar', 'comment': 'Great product', 'rating': '5', 'product': 'https://www.flipkart.com/casio-dj-220dplus-desktop-basic-calculator/p/itmesrg4hv3z4wph?pid=CALESRG4HFEMZ5HJ&lid=LSTCALESRG4HFEMZ5HJW4R3GB&marketplace=FLIPKART&srno=s_1_5&otracker=search&fm=organic&iid=41cc069a-4a43-4a7b-b257-488ac3a52b5a.CALESRG4HFEMZ5HJ.SEARCH&ssid=3t61loterk0000001590328826370&qH=4880766485de7821'}\n",
      "\n",
      "\n",
      "{'_id': ObjectId('5eca7df5dafba53669f7b4b0'), 'name': 'Sambit  Mohanty', 'comment': 'Classy product', 'rating': '5', 'product': 'https://www.flipkart.com/casio-dj-220dplus-desktop-basic-calculator/p/itmesrg4hv3z4wph?pid=CALESRG4HFEMZ5HJ&lid=LSTCALESRG4HFEMZ5HJW4R3GB&marketplace=FLIPKART&srno=s_1_5&otracker=search&fm=organic&iid=41cc069a-4a43-4a7b-b257-488ac3a52b5a.CALESRG4HFEMZ5HJ.SEARCH&ssid=3t61loterk0000001590328826370&qH=4880766485de7821'}\n",
      "\n",
      "\n",
      "{'_id': ObjectId('5eca7df5dafba53669f7b4b1'), 'name': 'santosh kumar', 'comment': 'Brilliant', 'rating': '5', 'product': 'https://www.flipkart.com/casio-dj-220dplus-desktop-basic-calculator/p/itmesrg4hv3z4wph?pid=CALESRG4HFEMZ5HJ&lid=LSTCALESRG4HFEMZ5HJW4R3GB&marketplace=FLIPKART&srno=s_1_5&otracker=search&fm=organic&iid=41cc069a-4a43-4a7b-b257-488ac3a52b5a.CALESRG4HFEMZ5HJ.SEARCH&ssid=3t61loterk0000001590328826370&qH=4880766485de7821'}\n",
      "\n",
      "\n",
      "{'_id': ObjectId('5eca7df5dafba53669f7b4b2'), 'name': 'Prakash Srivastava', 'comment': 'Super!', 'rating': '5', 'product': 'https://www.flipkart.com/casio-dj-220dplus-desktop-basic-calculator/p/itmesrg4hv3z4wph?pid=CALESRG4HFEMZ5HJ&lid=LSTCALESRG4HFEMZ5HJW4R3GB&marketplace=FLIPKART&srno=s_1_5&otracker=search&fm=organic&iid=41cc069a-4a43-4a7b-b257-488ac3a52b5a.CALESRG4HFEMZ5HJ.SEARCH&ssid=3t61loterk0000001590328826370&qH=4880766485de7821'}\n",
      "\n",
      "\n",
      "{'_id': ObjectId('5eca7df5dafba53669f7b4b3'), 'name': 'Flipkart Customer', 'comment': 'Best in the market!', 'rating': '5', 'product': 'https://www.flipkart.com/casio-dj-220dplus-desktop-basic-calculator/p/itmesrg4hv3z4wph?pid=CALESRG4HFEMZ5HJ&lid=LSTCALESRG4HFEMZ5HJW4R3GB&marketplace=FLIPKART&srno=s_1_5&otracker=search&fm=organic&iid=41cc069a-4a43-4a7b-b257-488ac3a52b5a.CALESRG4HFEMZ5HJ.SEARCH&ssid=3t61loterk0000001590328826370&qH=4880766485de7821'}\n",
      "\n",
      "\n"
     ]
    }
   ],
   "source": [
    "dbConnection = pymongo.MongoClient(\"mongodb://localhost:27017/\")\n",
    "db = dbConnection['reviews']\n",
    "arrRev = db[\"calculator\"].find({})\n",
    "for x in arrRev:\n",
    "    print(x)\n",
    "    print(\"\\n\")"
   ]
  },
  {
   "cell_type": "code",
   "execution_count": 35,
   "metadata": {},
   "outputs": [],
   "source": [
    "x = dbConnection['calculator']"
   ]
  },
  {
   "cell_type": "code",
   "execution_count": 36,
   "metadata": {},
   "outputs": [
    {
     "data": {
      "text/plain": [
       "Database(MongoClient(host=['localhost:27017'], document_class=dict, tz_aware=False, connect=True), 'admin')"
      ]
     },
     "execution_count": 36,
     "metadata": {},
     "output_type": "execute_result"
    }
   ],
   "source": [
    "x"
   ]
  },
  {
   "cell_type": "code",
   "execution_count": 37,
   "metadata": {},
   "outputs": [
    {
     "data": {
      "text/plain": [
       "Collection(Database(MongoClient(host=['localhost:27017'], document_class=dict, tz_aware=False, connect=True), 'admin'), 'x')"
      ]
     },
     "execution_count": 37,
     "metadata": {},
     "output_type": "execute_result"
    }
   ],
   "source": [
    "x['x']"
   ]
  },
  {
   "cell_type": "code",
   "execution_count": null,
   "metadata": {},
   "outputs": [],
   "source": []
  },
  {
   "cell_type": "code",
   "execution_count": null,
   "metadata": {},
   "outputs": [],
   "source": []
  },
  {
   "cell_type": "code",
   "execution_count": null,
   "metadata": {},
   "outputs": [],
   "source": []
  },
  {
   "cell_type": "code",
   "execution_count": null,
   "metadata": {},
   "outputs": [],
   "source": []
  }
 ],
 "metadata": {
  "kernelspec": {
   "display_name": "Python 3",
   "language": "python",
   "name": "python3"
  },
  "language_info": {
   "codemirror_mode": {
    "name": "ipython",
    "version": 3
   },
   "file_extension": ".py",
   "mimetype": "text/x-python",
   "name": "python",
   "nbconvert_exporter": "python",
   "pygments_lexer": "ipython3",
   "version": "3.7.4"
  }
 },
 "nbformat": 4,
 "nbformat_minor": 2
}
